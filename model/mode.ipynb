{
 "cells": [
  {
   "cell_type": "code",
   "execution_count": 16,
   "metadata": {},
   "outputs": [],
   "source": [
    "import keras.layers as layers\n",
    "import keras.models as models\n",
    "import keras.optimizers as optimizers\n",
    "import keras.losses as losses\n",
    "import keras.metrics as metrics\n",
    "import numpy as np\n",
    "import matplotlib.pyplot as plt\n",
    "import glob\n",
    "import pandas as pd\n",
    "import os\n",
    "import tensorflow as tf\n",
    "from sklearn.model_selection import train_test_split"
   ]
  },
  {
   "cell_type": "code",
   "execution_count": 17,
   "metadata": {},
   "outputs": [
    {
     "name": "stdout",
     "output_type": "stream",
     "text": [
      "['../database\\\\result2174709.xlsx']\n",
      "file ../database\\result2174709.xlsx\n"
     ]
    }
   ],
   "source": [
    "# import all the xlsx files from database directory\n",
    "\n",
    "def get_data():\n",
    "    # get all the excel files in the database directory\n",
    "    excel_files = glob.glob('../database/*.xlsx')\n",
    "    # create a list to store all the dataframes\n",
    "    dataframes = []\n",
    "    print(excel_files)\n",
    "    # loop through the excel files and append the dataframes to the list\n",
    "    for file in excel_files:\n",
    "        print(\"file\", file)\n",
    "        dataframes.append(pd.read_excel(file))\n",
    "    # concatenate all the dataframes into one dataframe\n",
    "    if (len(dataframes) > 0):\n",
    "        df = pd.concat(dataframes)\n",
    "    else:\n",
    "        df = pd.DataFrame()\n",
    "    # return the dataframe\n",
    "    return df\n",
    "\n",
    "data = get_data()"
   ]
  },
  {
   "cell_type": "code",
   "execution_count": 18,
   "metadata": {},
   "outputs": [
    {
     "data": {
      "text/html": [
       "<div>\n",
       "<style scoped>\n",
       "    .dataframe tbody tr th:only-of-type {\n",
       "        vertical-align: middle;\n",
       "    }\n",
       "\n",
       "    .dataframe tbody tr th {\n",
       "        vertical-align: top;\n",
       "    }\n",
       "\n",
       "    .dataframe thead th {\n",
       "        text-align: right;\n",
       "    }\n",
       "</style>\n",
       "<table border=\"1\" class=\"dataframe\">\n",
       "  <thead>\n",
       "    <tr style=\"text-align: right;\">\n",
       "      <th></th>\n",
       "      <th>Filename</th>\n",
       "      <th>Choice</th>\n",
       "    </tr>\n",
       "  </thead>\n",
       "  <tbody>\n",
       "    <tr>\n",
       "      <th>0</th>\n",
       "      <td>autumn-colors-in-montreal-city-picture-id51544...</td>\n",
       "      <td>1</td>\n",
       "    </tr>\n",
       "    <tr>\n",
       "      <th>1</th>\n",
       "      <td>autumn-in-montreal-picture-id1015491890.jpg</td>\n",
       "      <td>1</td>\n",
       "    </tr>\n",
       "    <tr>\n",
       "      <th>2</th>\n",
       "      <td>bike-ride-in-montreal-picture-id1303753148.jpg</td>\n",
       "      <td>1</td>\n",
       "    </tr>\n",
       "    <tr>\n",
       "      <th>3</th>\n",
       "      <td>canada-quebec-montreal-flags-at-the-old-palace...</td>\n",
       "      <td>0</td>\n",
       "    </tr>\n",
       "    <tr>\n",
       "      <th>4</th>\n",
       "      <td>colorful-townhouses-montreal-canada-picture-id...</td>\n",
       "      <td>0</td>\n",
       "    </tr>\n",
       "  </tbody>\n",
       "</table>\n",
       "</div>"
      ],
      "text/plain": [
       "                                            Filename  Choice\n",
       "0  autumn-colors-in-montreal-city-picture-id51544...       1\n",
       "1        autumn-in-montreal-picture-id1015491890.jpg       1\n",
       "2     bike-ride-in-montreal-picture-id1303753148.jpg       1\n",
       "3  canada-quebec-montreal-flags-at-the-old-palace...       0\n",
       "4  colorful-townhouses-montreal-canada-picture-id...       0"
      ]
     },
     "execution_count": 18,
     "metadata": {},
     "output_type": "execute_result"
    }
   ],
   "source": [
    "data.head()"
   ]
  },
  {
   "cell_type": "code",
   "execution_count": 19,
   "metadata": {},
   "outputs": [],
   "source": [
    "base_image_directory = '../images/resized'\n",
    "\n",
    "images = []\n",
    "labels = []\n",
    "\n",
    "for index, row in data.iterrows():\n",
    "    image_path = os.path.join(base_image_directory, row['Filename'])\n",
    "    if os.path.exists(image_path):\n",
    "        image = tf.io.read_file(image_path)\n",
    "        image = tf.image.decode_jpeg(image, channels=3)\n",
    "        image = np.array(image)\n",
    "        images.append(image)\n",
    "        labels.append(row['Choice'])\n",
    "images = np.array(images)\n",
    "labels = np.array(labels)"
   ]
  },
  {
   "cell_type": "code",
   "execution_count": 20,
   "metadata": {},
   "outputs": [],
   "source": [
    "# preprocess the images\n",
    "images = images / 255.0\n"
   ]
  },
  {
   "attachments": {},
   "cell_type": "markdown",
   "metadata": {},
   "source": [
    "## Building the CNN model:"
   ]
  },
  {
   "cell_type": "code",
   "execution_count": 21,
   "metadata": {},
   "outputs": [],
   "source": [
    "model = tf.keras.Sequential()\n",
    "model.add(tf.keras.layers.Conv2D(32, (3, 3), activation='relu', input_shape=(224, 224, 3)))\n",
    "model.add(tf.keras.layers.MaxPooling2D((2, 2)))\n",
    "model.add(tf.keras.layers.Conv2D(64, (3, 3), activation='relu'))\n",
    "model.add(tf.keras.layers.MaxPooling2D((2, 2)))\n",
    "model.add(tf.keras.layers.Conv2D(64, (3, 3), activation='relu'))\n",
    "\n",
    "model.add(tf.keras.layers.Flatten())\n",
    "model.add(tf.keras.layers.Dense(64, activation='relu'))\n",
    "model.add(tf.keras.layers.Dense(1, activation='sigmoid'))\n",
    "\n",
    "model.compile(optimizer='adam',\n",
    "                loss='binary_crossentropy',\n",
    "                metrics=['accuracy'])\n"
   ]
  },
  {
   "cell_type": "code",
   "execution_count": 22,
   "metadata": {},
   "outputs": [
    {
     "name": "stdout",
     "output_type": "stream",
     "text": [
      "Epoch 1/10\n",
      "1/1 [==============================] - 2s 2s/step - loss: 0.7312 - accuracy: 0.1875 - val_loss: 5.7535 - val_accuracy: 0.6250\n",
      "Epoch 2/10\n",
      "1/1 [==============================] - 1s 780ms/step - loss: 3.0041 - accuracy: 0.8125 - val_loss: 1.1311 - val_accuracy: 0.6250\n",
      "Epoch 3/10\n",
      "1/1 [==============================] - 1s 796ms/step - loss: 0.5727 - accuracy: 0.8125 - val_loss: 1.3257 - val_accuracy: 0.3750\n",
      "Epoch 4/10\n",
      "1/1 [==============================] - 1s 803ms/step - loss: 1.7427 - accuracy: 0.1875 - val_loss: 0.6816 - val_accuracy: 0.6250\n",
      "Epoch 5/10\n",
      "1/1 [==============================] - 1s 781ms/step - loss: 0.4246 - accuracy: 0.8438 - val_loss: 1.5403 - val_accuracy: 0.6250\n",
      "Epoch 6/10\n",
      "1/1 [==============================] - 1s 719ms/step - loss: 0.6628 - accuracy: 0.8125 - val_loss: 1.0745 - val_accuracy: 0.6250\n",
      "Epoch 7/10\n",
      "1/1 [==============================] - 1s 726ms/step - loss: 0.4021 - accuracy: 0.8125 - val_loss: 0.7164 - val_accuracy: 0.6250\n",
      "Epoch 8/10\n",
      "1/1 [==============================] - 1s 733ms/step - loss: 0.3608 - accuracy: 0.9062 - val_loss: 0.7361 - val_accuracy: 0.6250\n",
      "Epoch 9/10\n",
      "1/1 [==============================] - 1s 726ms/step - loss: 0.3120 - accuracy: 0.9375 - val_loss: 1.2189 - val_accuracy: 0.6250\n",
      "Epoch 10/10\n",
      "1/1 [==============================] - 1s 736ms/step - loss: 0.2652 - accuracy: 0.8750 - val_loss: 1.1014 - val_accuracy: 0.6250\n"
     ]
    },
    {
     "data": {
      "text/plain": [
       "<keras.callbacks.History at 0x2a66e6bb100>"
      ]
     },
     "execution_count": 22,
     "metadata": {},
     "output_type": "execute_result"
    }
   ],
   "source": [
    "x_train, x_val, y_train, y_val = train_test_split(images, labels, test_size=0.2, random_state=42)\n",
    "model.fit(x_train, y_train, epochs=10, validation_data=(x_val, y_val))"
   ]
  },
  {
   "cell_type": "code",
   "execution_count": 23,
   "metadata": {},
   "outputs": [
    {
     "name": "stdout",
     "output_type": "stream",
     "text": [
      "1/1 [==============================] - 0s 100ms/step\n"
     ]
    }
   ],
   "source": [
    "predictions = model.predict(x_val)\n"
   ]
  },
  {
   "cell_type": "code",
   "execution_count": 24,
   "metadata": {},
   "outputs": [],
   "source": [
    "predictions_classes = np.argmax(predictions, axis=1)"
   ]
  },
  {
   "cell_type": "code",
   "execution_count": 25,
   "metadata": {},
   "outputs": [
    {
     "name": "stdout",
     "output_type": "stream",
     "text": [
      "Image 0 : Prediction =  0\n",
      "Image 1 : Prediction =  0\n",
      "Image 2 : Prediction =  0\n",
      "Image 3 : Prediction =  0\n",
      "Image 4 : Prediction =  0\n",
      "Image 5 : Prediction =  0\n",
      "Image 6 : Prediction =  0\n",
      "Image 7 : Prediction =  0\n"
     ]
    }
   ],
   "source": [
    "for i, prediction in enumerate(predictions_classes):\n",
    "    print(\"Image\", i, \": Prediction = \", prediction)"
   ]
  }
 ],
 "metadata": {
  "kernelspec": {
   "display_name": "venv",
   "language": "python",
   "name": "python3"
  },
  "language_info": {
   "codemirror_mode": {
    "name": "ipython",
    "version": 3
   },
   "file_extension": ".py",
   "mimetype": "text/x-python",
   "name": "python",
   "nbconvert_exporter": "python",
   "pygments_lexer": "ipython3",
   "version": "3.10.4"
  },
  "orig_nbformat": 4,
  "vscode": {
   "interpreter": {
    "hash": "0b85274f7199beb53ced1ffdb8a8f823fec471e90bbffc5d89ba910d21f0a472"
   }
  }
 },
 "nbformat": 4,
 "nbformat_minor": 2
}
